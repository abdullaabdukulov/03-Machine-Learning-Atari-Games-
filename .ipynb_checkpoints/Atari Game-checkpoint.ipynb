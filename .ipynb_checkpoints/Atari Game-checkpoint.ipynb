{
 "cells": [
  {
   "cell_type": "code",
   "execution_count": 30,
   "id": "83ab4e41-e8c7-44be-bea9-1fbdbabae0c2",
   "metadata": {},
   "outputs": [
    {
     "name": "stdout",
     "output_type": "stream",
     "text": [
      "Requirement already satisfied: gym==0.25.0 in c:\\users\\professional\\appdata\\local\\programs\\python\\python310\\lib\\site-packages (0.25.0)\n",
      "Requirement already satisfied: scikit-learn in c:\\users\\professional\\appdata\\local\\programs\\python\\python310\\lib\\site-packages (1.4.0)\n",
      "Requirement already satisfied: opencv-python in c:\\users\\professional\\appdata\\local\\programs\\python\\python310\\lib\\site-packages (4.9.0.80)\n",
      "Requirement already satisfied: numpy>=1.18.0 in c:\\users\\professional\\appdata\\local\\programs\\python\\python310\\lib\\site-packages (from gym==0.25.0) (1.23.5)\n",
      "Requirement already satisfied: cloudpickle>=1.2.0 in c:\\users\\professional\\appdata\\local\\programs\\python\\python310\\lib\\site-packages (from gym==0.25.0) (3.0.0)\n",
      "Requirement already satisfied: gym-notices>=0.0.4 in c:\\users\\professional\\appdata\\local\\programs\\python\\python310\\lib\\site-packages (from gym==0.25.0) (0.0.8)\n",
      "Requirement already satisfied: scipy>=1.6.0 in c:\\users\\professional\\appdata\\local\\programs\\python\\python310\\lib\\site-packages (from scikit-learn) (1.12.0)\n",
      "Requirement already satisfied: joblib>=1.2.0 in c:\\users\\professional\\appdata\\local\\programs\\python\\python310\\lib\\site-packages (from scikit-learn) (1.3.2)\n",
      "Requirement already satisfied: threadpoolctl>=2.0.0 in c:\\users\\professional\\appdata\\local\\programs\\python\\python310\\lib\\site-packages (from scikit-learn) (3.2.0)\n"
     ]
    }
   ],
   "source": [
    "! pip install gym==0.25.0 scikit-learn opencv-python --upgrade"
   ]
  },
  {
   "cell_type": "code",
   "execution_count": 33,
   "id": "892de03a-15d4-4b56-aecc-543c5671f6f0",
   "metadata": {},
   "outputs": [],
   "source": [
    "import gym\n",
    "import cv2\n",
    "import numpy as np\n",
    "from sklearn.linear_model import LogisticRegression\n",
    "from sklearn.preprocessing import StandardScaler"
   ]
  },
  {
   "cell_type": "code",
   "execution_count": 36,
   "id": "0d5bdc82-7bc8-4493-a555-f94c09b84be2",
   "metadata": {},
   "outputs": [
    {
     "ename": "error",
     "evalue": "OpenCV(4.9.0) :-1: error: (-5:Bad argument) in function 'cvtColor'\n> Overload resolution failed:\n>  - src is not a numerical tuple\n>  - Expected Ptr<cv::UMat> for argument 'src'\n",
     "output_type": "error",
     "traceback": [
      "\u001b[1;31m---------------------------------------------------------------------------\u001b[0m",
      "\u001b[1;31merror\u001b[0m                                     Traceback (most recent call last)",
      "Cell \u001b[1;32mIn[36], line 24\u001b[0m\n\u001b[0;32m     21\u001b[0m total_reward \u001b[38;5;241m=\u001b[39m \u001b[38;5;241m0\u001b[39m\n\u001b[0;32m     23\u001b[0m \u001b[38;5;28;01mwhile\u001b[39;00m \u001b[38;5;129;01mnot\u001b[39;00m done:\n\u001b[1;32m---> 24\u001b[0m     preprocessed_observation \u001b[38;5;241m=\u001b[39m \u001b[43mpreprocess_observation\u001b[49m\u001b[43m(\u001b[49m\u001b[43mobservation\u001b[49m\u001b[43m)\u001b[49m\n\u001b[0;32m     25\u001b[0m     action \u001b[38;5;241m=\u001b[39m policy(preprocessed_observation)\n\u001b[0;32m     26\u001b[0m     observation, reward, done, _ \u001b[38;5;241m=\u001b[39m env\u001b[38;5;241m.\u001b[39mstep(action)\n",
      "Cell \u001b[1;32mIn[36], line 4\u001b[0m, in \u001b[0;36mpreprocess_observation\u001b[1;34m(observation)\u001b[0m\n\u001b[0;32m      3\u001b[0m \u001b[38;5;28;01mdef\u001b[39;00m \u001b[38;5;21mpreprocess_observation\u001b[39m(observation):\n\u001b[1;32m----> 4\u001b[0m     observation \u001b[38;5;241m=\u001b[39m \u001b[43mcv2\u001b[49m\u001b[38;5;241;43m.\u001b[39;49m\u001b[43mcvtColor\u001b[49m\u001b[43m(\u001b[49m\u001b[43mobservation\u001b[49m\u001b[43m,\u001b[49m\u001b[43m \u001b[49m\u001b[43mcv2\u001b[49m\u001b[38;5;241;43m.\u001b[39;49m\u001b[43mCOLOR_RGB2GRAY\u001b[49m\u001b[43m)\u001b[49m\n\u001b[0;32m      5\u001b[0m     observation \u001b[38;5;241m=\u001b[39m cv2\u001b[38;5;241m.\u001b[39mresize(observation, (\u001b[38;5;241m84\u001b[39m, \u001b[38;5;241m110\u001b[39m))\n\u001b[0;32m      6\u001b[0m     \u001b[38;5;28;01mreturn\u001b[39;00m observation\u001b[38;5;241m.\u001b[39mastype(np\u001b[38;5;241m.\u001b[39muint8)\n",
      "\u001b[1;31merror\u001b[0m: OpenCV(4.9.0) :-1: error: (-5:Bad argument) in function 'cvtColor'\n> Overload resolution failed:\n>  - src is not a numerical tuple\n>  - Expected Ptr<cv::UMat> for argument 'src'\n"
     ]
    }
   ],
   "source": [
    "env = gym.make('CartPole-v1')\n",
    "\n",
    "def preprocess_observation(observation):\n",
    "    observation = cv2.cvtColor(observation, cv2.COLOR_RGB2GRAY)\n",
    "    observation = cv2.resize(observation, (84, 110))\n",
    "    return observation.astype(np.uint8)\n",
    "\n",
    "def policy(observation):\n",
    "    return 1 if np.dot(observation, weights) > 0 else 0\n",
    "\n",
    "scaler = StandardScaler()\n",
    "weights = np.random.rand(84 * 110)\n",
    "\n",
    "video_writer = cv2.VideoWriter('cartpole_video.mp4', cv2.VideoWriter_fourcc(*'mp4v'), 30, (800, 600))\n",
    "\n",
    "\n",
    "num_episodes = 100\n",
    "for episode in range(num_episodes):\n",
    "    observation = env.reset()\n",
    "    done = False\n",
    "    total_reward = 0\n",
    "\n",
    "    while not done:\n",
    "        preprocessed_observation = preprocess_observation(observation)\n",
    "        action = policy(preprocessed_observation)\n",
    "        observation, reward, done, _ = env.step(action)\n",
    "        total_reward += reward\n",
    "        frame = env.render(mode='rgb_array')\n",
    "        frame = cv2.resize(frame, (800, 600))\n",
    "        video_writer.write(frame)\n",
    "\n",
    "    # Print total reward for the episode\n",
    "    print(f\"Episode {episode + 1}, Total Reward: {total_reward}\")\n",
    "\n",
    "# Release video writer and close environment\n",
    "video_writer.release()\n",
    "env.close()\n"
   ]
  },
  {
   "cell_type": "code",
   "execution_count": null,
   "id": "4b4ab038-33b3-4316-8e24-fc86d20a8e6d",
   "metadata": {},
   "outputs": [],
   "source": []
  }
 ],
 "metadata": {
  "kernelspec": {
   "display_name": "Python 3 (ipykernel)",
   "language": "python",
   "name": "python3"
  },
  "language_info": {
   "codemirror_mode": {
    "name": "ipython",
    "version": 3
   },
   "file_extension": ".py",
   "mimetype": "text/x-python",
   "name": "python",
   "nbconvert_exporter": "python",
   "pygments_lexer": "ipython3",
   "version": "3.10.2"
  }
 },
 "nbformat": 4,
 "nbformat_minor": 5
}
