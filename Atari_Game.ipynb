{
  "nbformat": 4,
  "nbformat_minor": 0,
  "metadata": {
    "colab": {
      "provenance": []
    },
    "kernelspec": {
      "name": "python3",
      "display_name": "Python 3"
    },
    "language_info": {
      "name": "python"
    },
    "widgets": {
      "application/vnd.jupyter.widget-state+json": {
        "f11dd4382f5541f6b112ea265b370a9c": {
          "model_module": "@jupyter-widgets/output",
          "model_name": "OutputModel",
          "model_module_version": "1.0.0",
          "state": {
            "_dom_classes": [],
            "_model_module": "@jupyter-widgets/output",
            "_model_module_version": "1.0.0",
            "_model_name": "OutputModel",
            "_view_count": null,
            "_view_module": "@jupyter-widgets/output",
            "_view_module_version": "1.0.0",
            "_view_name": "OutputView",
            "layout": "IPY_MODEL_975bfe44b1b6483bb13487c091712236",
            "msg_id": "",
            "outputs": [
              {
                "output_type": "display_data",
                "data": {
                  "text/plain": "\u001b[35m 100%\u001b[0m \u001b[38;2;114;156;31m━━━━━━━━━━━━━━━━━━━━━━━━━━━━━━━━━━━━━━━━━━━━━━━━━━━━━━━━━━━\u001b[0m \u001b[32m100,283/100,000 \u001b[0m [ \u001b[33m0:01:52\u001b[0m < \u001b[36m0:00:00\u001b[0m , \u001b[31m908 it/s\u001b[0m ]\n",
                  "text/html": "<pre style=\"white-space:pre;overflow-x:auto;line-height:normal;font-family:Menlo,'DejaVu Sans Mono',consolas,'Courier New',monospace\"><span style=\"color: #800080; text-decoration-color: #800080\"> 100%</span> <span style=\"color: #729c1f; text-decoration-color: #729c1f\">━━━━━━━━━━━━━━━━━━━━━━━━━━━━━━━━━━━━━━━━━━━━━━━━━━━━━━━━━━━</span> <span style=\"color: #008000; text-decoration-color: #008000\">100,283/100,000 </span> [ <span style=\"color: #808000; text-decoration-color: #808000\">0:01:52</span> &lt; <span style=\"color: #008080; text-decoration-color: #008080\">0:00:00</span> , <span style=\"color: #800000; text-decoration-color: #800000\">908 it/s</span> ]\n</pre>\n"
                },
                "metadata": {}
              }
            ]
          }
        },
        "975bfe44b1b6483bb13487c091712236": {
          "model_module": "@jupyter-widgets/base",
          "model_name": "LayoutModel",
          "model_module_version": "1.2.0",
          "state": {
            "_model_module": "@jupyter-widgets/base",
            "_model_module_version": "1.2.0",
            "_model_name": "LayoutModel",
            "_view_count": null,
            "_view_module": "@jupyter-widgets/base",
            "_view_module_version": "1.2.0",
            "_view_name": "LayoutView",
            "align_content": null,
            "align_items": null,
            "align_self": null,
            "border": null,
            "bottom": null,
            "display": null,
            "flex": null,
            "flex_flow": null,
            "grid_area": null,
            "grid_auto_columns": null,
            "grid_auto_flow": null,
            "grid_auto_rows": null,
            "grid_column": null,
            "grid_gap": null,
            "grid_row": null,
            "grid_template_areas": null,
            "grid_template_columns": null,
            "grid_template_rows": null,
            "height": null,
            "justify_content": null,
            "justify_items": null,
            "left": null,
            "margin": null,
            "max_height": null,
            "max_width": null,
            "min_height": null,
            "min_width": null,
            "object_fit": null,
            "object_position": null,
            "order": null,
            "overflow": null,
            "overflow_x": null,
            "overflow_y": null,
            "padding": null,
            "right": null,
            "top": null,
            "visibility": null,
            "width": null
          }
        },
        "1f0bfaa45ef34e23892364a46400376f": {
          "model_module": "@jupyter-widgets/output",
          "model_name": "OutputModel",
          "model_module_version": "1.0.0",
          "state": {
            "_dom_classes": [],
            "_model_module": "@jupyter-widgets/output",
            "_model_module_version": "1.0.0",
            "_model_name": "OutputModel",
            "_view_count": null,
            "_view_module": "@jupyter-widgets/output",
            "_view_module_version": "1.0.0",
            "_view_name": "OutputView",
            "layout": "IPY_MODEL_ea1c2879c5c342e3ad6f66c884d74af4",
            "msg_id": "",
            "outputs": [
              {
                "output_type": "display_data",
                "data": {
                  "text/plain": "\u001b[35m 100%\u001b[0m \u001b[38;2;249;38;114m━━━━━━━━━━━━━━━━━━━━━━━━━━━━━━━━━━━━━━━━━━━━━━━━━━━━━━━━━━\u001b[0m\u001b[38;2;249;38;114m╸\u001b[0m \u001b[32m199,977/200,000 \u001b[0m [ \u001b[33m0:18:14\u001b[0m < \u001b[36m0:00:01\u001b[0m , \u001b[31m163 it/s\u001b[0m ]\n",
                  "text/html": "<pre style=\"white-space:pre;overflow-x:auto;line-height:normal;font-family:Menlo,'DejaVu Sans Mono',consolas,'Courier New',monospace\"><span style=\"color: #800080; text-decoration-color: #800080\"> 100%</span> <span style=\"color: #f92672; text-decoration-color: #f92672\">━━━━━━━━━━━━━━━━━━━━━━━━━━━━━━━━━━━━━━━━━━━━━━━━━━━━━━━━━━╸</span> <span style=\"color: #008000; text-decoration-color: #008000\">199,977/200,000 </span> [ <span style=\"color: #808000; text-decoration-color: #808000\">0:18:14</span> &lt; <span style=\"color: #008080; text-decoration-color: #008080\">0:00:01</span> , <span style=\"color: #800000; text-decoration-color: #800000\">163 it/s</span> ]\n</pre>\n"
                },
                "metadata": {}
              }
            ]
          }
        },
        "ea1c2879c5c342e3ad6f66c884d74af4": {
          "model_module": "@jupyter-widgets/base",
          "model_name": "LayoutModel",
          "model_module_version": "1.2.0",
          "state": {
            "_model_module": "@jupyter-widgets/base",
            "_model_module_version": "1.2.0",
            "_model_name": "LayoutModel",
            "_view_count": null,
            "_view_module": "@jupyter-widgets/base",
            "_view_module_version": "1.2.0",
            "_view_name": "LayoutView",
            "align_content": null,
            "align_items": null,
            "align_self": null,
            "border": null,
            "bottom": null,
            "display": null,
            "flex": null,
            "flex_flow": null,
            "grid_area": null,
            "grid_auto_columns": null,
            "grid_auto_flow": null,
            "grid_auto_rows": null,
            "grid_column": null,
            "grid_gap": null,
            "grid_row": null,
            "grid_template_areas": null,
            "grid_template_columns": null,
            "grid_template_rows": null,
            "height": null,
            "justify_content": null,
            "justify_items": null,
            "left": null,
            "margin": null,
            "max_height": null,
            "max_width": null,
            "min_height": null,
            "min_width": null,
            "object_fit": null,
            "object_position": null,
            "order": null,
            "overflow": null,
            "overflow_x": null,
            "overflow_y": null,
            "padding": null,
            "right": null,
            "top": null,
            "visibility": null,
            "width": null
          }
        }
      }
    }
  },
  "cells": [
    {
      "cell_type": "code",
      "source": [
        "! pip install stable-baselines3[extra]\n",
        "! pip install -q swig\n",
        "! pip install -q gymnasium[box2d]\n",
        "! apt-get update && apt-get install swig cmake"
      ],
      "metadata": {
        "colab": {
          "base_uri": "https://localhost:8080/",
          "height": 1000
        },
        "id": "I0gNSr56lwKh",
        "outputId": "843276c3-794b-4d1a-b940-717fba461296"
      },
      "execution_count": null,
      "outputs": [
        {
          "output_type": "stream",
          "name": "stdout",
          "text": [
            "Requirement already satisfied: stable-baselines3[extra] in /usr/local/lib/python3.10/dist-packages (2.1.0)\n",
            "Requirement already satisfied: gymnasium<0.30,>=0.28.1 in /usr/local/lib/python3.10/dist-packages (from stable-baselines3[extra]) (0.29.1)\n",
            "Requirement already satisfied: numpy>=1.20 in /usr/local/lib/python3.10/dist-packages (from stable-baselines3[extra]) (1.23.5)\n",
            "Requirement already satisfied: torch>=1.13 in /usr/local/lib/python3.10/dist-packages (from stable-baselines3[extra]) (2.1.0+cu121)\n",
            "Requirement already satisfied: cloudpickle in /usr/local/lib/python3.10/dist-packages (from stable-baselines3[extra]) (1.2.2)\n",
            "Requirement already satisfied: pandas in /usr/local/lib/python3.10/dist-packages (from stable-baselines3[extra]) (1.5.3)\n",
            "Requirement already satisfied: matplotlib in /usr/local/lib/python3.10/dist-packages (from stable-baselines3[extra]) (3.7.1)\n",
            "Requirement already satisfied: opencv-python in /usr/local/lib/python3.10/dist-packages (from stable-baselines3[extra]) (4.8.0.76)\n",
            "Requirement already satisfied: pygame in /usr/local/lib/python3.10/dist-packages (from stable-baselines3[extra]) (2.1.0)\n",
            "Requirement already satisfied: tensorboard>=2.9.1 in /usr/local/lib/python3.10/dist-packages (from stable-baselines3[extra]) (2.15.1)\n",
            "Requirement already satisfied: psutil in /usr/local/lib/python3.10/dist-packages (from stable-baselines3[extra]) (5.9.5)\n",
            "Requirement already satisfied: tqdm in /usr/local/lib/python3.10/dist-packages (from stable-baselines3[extra]) (4.66.1)\n",
            "Requirement already satisfied: rich in /usr/local/lib/python3.10/dist-packages (from stable-baselines3[extra]) (13.7.0)\n",
            "Collecting shimmy[atari]~=1.1.0 (from stable-baselines3[extra])\n",
            "  Downloading Shimmy-1.1.0-py3-none-any.whl (37 kB)\n",
            "Requirement already satisfied: pillow in /usr/local/lib/python3.10/dist-packages (from stable-baselines3[extra]) (9.4.0)\n",
            "Requirement already satisfied: autorom[accept-rom-license]~=0.6.1 in /usr/local/lib/python3.10/dist-packages (from stable-baselines3[extra]) (0.6.1)\n",
            "Requirement already satisfied: click in /usr/local/lib/python3.10/dist-packages (from autorom[accept-rom-license]~=0.6.1->stable-baselines3[extra]) (8.1.7)\n",
            "Requirement already satisfied: requests in /usr/local/lib/python3.10/dist-packages (from autorom[accept-rom-license]~=0.6.1->stable-baselines3[extra]) (2.31.0)\n",
            "Requirement already satisfied: AutoROM.accept-rom-license in /usr/local/lib/python3.10/dist-packages (from autorom[accept-rom-license]~=0.6.1->stable-baselines3[extra]) (0.6.1)\n",
            "Requirement already satisfied: typing-extensions>=4.3.0 in /usr/local/lib/python3.10/dist-packages (from gymnasium<0.30,>=0.28.1->stable-baselines3[extra]) (4.5.0)\n",
            "Requirement already satisfied: farama-notifications>=0.0.1 in /usr/local/lib/python3.10/dist-packages (from gymnasium<0.30,>=0.28.1->stable-baselines3[extra]) (0.0.4)\n",
            "Collecting ale-py~=0.8.1 (from shimmy[atari]~=1.1.0->stable-baselines3[extra])\n",
            "  Using cached ale_py-0.8.1-cp310-cp310-manylinux_2_17_x86_64.manylinux2014_x86_64.whl (1.7 MB)\n",
            "Requirement already satisfied: absl-py>=0.4 in /usr/local/lib/python3.10/dist-packages (from tensorboard>=2.9.1->stable-baselines3[extra]) (1.4.0)\n",
            "Requirement already satisfied: grpcio>=1.48.2 in /usr/local/lib/python3.10/dist-packages (from tensorboard>=2.9.1->stable-baselines3[extra]) (1.60.0)\n",
            "Requirement already satisfied: google-auth<3,>=1.6.3 in /usr/local/lib/python3.10/dist-packages (from tensorboard>=2.9.1->stable-baselines3[extra]) (2.17.3)\n",
            "Requirement already satisfied: google-auth-oauthlib<2,>=0.5 in /usr/local/lib/python3.10/dist-packages (from tensorboard>=2.9.1->stable-baselines3[extra]) (1.2.0)\n",
            "Requirement already satisfied: markdown>=2.6.8 in /usr/local/lib/python3.10/dist-packages (from tensorboard>=2.9.1->stable-baselines3[extra]) (3.5.2)\n",
            "Requirement already satisfied: protobuf<4.24,>=3.19.6 in /usr/local/lib/python3.10/dist-packages (from tensorboard>=2.9.1->stable-baselines3[extra]) (3.20.3)\n",
            "Requirement already satisfied: setuptools>=41.0.0 in /usr/local/lib/python3.10/dist-packages (from tensorboard>=2.9.1->stable-baselines3[extra]) (67.7.2)\n",
            "Requirement already satisfied: six>1.9 in /usr/local/lib/python3.10/dist-packages (from tensorboard>=2.9.1->stable-baselines3[extra]) (1.16.0)\n",
            "Requirement already satisfied: tensorboard-data-server<0.8.0,>=0.7.0 in /usr/local/lib/python3.10/dist-packages (from tensorboard>=2.9.1->stable-baselines3[extra]) (0.7.2)\n",
            "Requirement already satisfied: werkzeug>=1.0.1 in /usr/local/lib/python3.10/dist-packages (from tensorboard>=2.9.1->stable-baselines3[extra]) (3.0.1)\n",
            "Requirement already satisfied: filelock in /usr/local/lib/python3.10/dist-packages (from torch>=1.13->stable-baselines3[extra]) (3.13.1)\n",
            "Requirement already satisfied: sympy in /usr/local/lib/python3.10/dist-packages (from torch>=1.13->stable-baselines3[extra]) (1.12)\n",
            "Requirement already satisfied: networkx in /usr/local/lib/python3.10/dist-packages (from torch>=1.13->stable-baselines3[extra]) (3.2.1)\n",
            "Requirement already satisfied: jinja2 in /usr/local/lib/python3.10/dist-packages (from torch>=1.13->stable-baselines3[extra]) (3.1.3)\n",
            "Requirement already satisfied: fsspec in /usr/local/lib/python3.10/dist-packages (from torch>=1.13->stable-baselines3[extra]) (2023.6.0)\n",
            "Requirement already satisfied: triton==2.1.0 in /usr/local/lib/python3.10/dist-packages (from torch>=1.13->stable-baselines3[extra]) (2.1.0)\n",
            "Requirement already satisfied: contourpy>=1.0.1 in /usr/local/lib/python3.10/dist-packages (from matplotlib->stable-baselines3[extra]) (1.2.0)\n",
            "Requirement already satisfied: cycler>=0.10 in /usr/local/lib/python3.10/dist-packages (from matplotlib->stable-baselines3[extra]) (0.12.1)\n",
            "Requirement already satisfied: fonttools>=4.22.0 in /usr/local/lib/python3.10/dist-packages (from matplotlib->stable-baselines3[extra]) (4.47.2)\n",
            "Requirement already satisfied: kiwisolver>=1.0.1 in /usr/local/lib/python3.10/dist-packages (from matplotlib->stable-baselines3[extra]) (1.4.5)\n",
            "Requirement already satisfied: packaging>=20.0 in /usr/local/lib/python3.10/dist-packages (from matplotlib->stable-baselines3[extra]) (23.2)\n",
            "Requirement already satisfied: pyparsing>=2.3.1 in /usr/local/lib/python3.10/dist-packages (from matplotlib->stable-baselines3[extra]) (3.1.1)\n",
            "Requirement already satisfied: python-dateutil>=2.7 in /usr/local/lib/python3.10/dist-packages (from matplotlib->stable-baselines3[extra]) (2.8.2)\n",
            "Requirement already satisfied: pytz>=2020.1 in /usr/local/lib/python3.10/dist-packages (from pandas->stable-baselines3[extra]) (2023.3.post1)\n",
            "Requirement already satisfied: markdown-it-py>=2.2.0 in /usr/local/lib/python3.10/dist-packages (from rich->stable-baselines3[extra]) (3.0.0)\n",
            "Requirement already satisfied: pygments<3.0.0,>=2.13.0 in /usr/local/lib/python3.10/dist-packages (from rich->stable-baselines3[extra]) (2.16.1)\n",
            "Requirement already satisfied: importlib-resources in /usr/local/lib/python3.10/dist-packages (from ale-py~=0.8.1->shimmy[atari]~=1.1.0->stable-baselines3[extra]) (6.1.1)\n",
            "Requirement already satisfied: cachetools<6.0,>=2.0.0 in /usr/local/lib/python3.10/dist-packages (from google-auth<3,>=1.6.3->tensorboard>=2.9.1->stable-baselines3[extra]) (5.3.2)\n",
            "Requirement already satisfied: pyasn1-modules>=0.2.1 in /usr/local/lib/python3.10/dist-packages (from google-auth<3,>=1.6.3->tensorboard>=2.9.1->stable-baselines3[extra]) (0.3.0)\n",
            "Requirement already satisfied: rsa<5,>=3.1.4 in /usr/local/lib/python3.10/dist-packages (from google-auth<3,>=1.6.3->tensorboard>=2.9.1->stable-baselines3[extra]) (4.9)\n",
            "Requirement already satisfied: requests-oauthlib>=0.7.0 in /usr/local/lib/python3.10/dist-packages (from google-auth-oauthlib<2,>=0.5->tensorboard>=2.9.1->stable-baselines3[extra]) (1.3.1)\n",
            "Requirement already satisfied: mdurl~=0.1 in /usr/local/lib/python3.10/dist-packages (from markdown-it-py>=2.2.0->rich->stable-baselines3[extra]) (0.1.2)\n",
            "Requirement already satisfied: charset-normalizer<4,>=2 in /usr/local/lib/python3.10/dist-packages (from requests->autorom[accept-rom-license]~=0.6.1->stable-baselines3[extra]) (3.3.2)\n",
            "Requirement already satisfied: idna<4,>=2.5 in /usr/local/lib/python3.10/dist-packages (from requests->autorom[accept-rom-license]~=0.6.1->stable-baselines3[extra]) (3.6)\n",
            "Requirement already satisfied: urllib3<3,>=1.21.1 in /usr/local/lib/python3.10/dist-packages (from requests->autorom[accept-rom-license]~=0.6.1->stable-baselines3[extra]) (2.0.7)\n",
            "Requirement already satisfied: certifi>=2017.4.17 in /usr/local/lib/python3.10/dist-packages (from requests->autorom[accept-rom-license]~=0.6.1->stable-baselines3[extra]) (2023.11.17)\n",
            "Requirement already satisfied: MarkupSafe>=2.1.1 in /usr/local/lib/python3.10/dist-packages (from werkzeug>=1.0.1->tensorboard>=2.9.1->stable-baselines3[extra]) (2.1.4)\n",
            "Requirement already satisfied: mpmath>=0.19 in /usr/local/lib/python3.10/dist-packages (from sympy->torch>=1.13->stable-baselines3[extra]) (1.3.0)\n",
            "Requirement already satisfied: pyasn1<0.6.0,>=0.4.6 in /usr/local/lib/python3.10/dist-packages (from pyasn1-modules>=0.2.1->google-auth<3,>=1.6.3->tensorboard>=2.9.1->stable-baselines3[extra]) (0.5.1)\n",
            "Requirement already satisfied: oauthlib>=3.0.0 in /usr/local/lib/python3.10/dist-packages (from requests-oauthlib>=0.7.0->google-auth-oauthlib<2,>=0.5->tensorboard>=2.9.1->stable-baselines3[extra]) (3.2.2)\n",
            "Installing collected packages: ale-py, shimmy\n",
            "  Attempting uninstall: ale-py\n",
            "    Found existing installation: ale-py 0.7.5\n",
            "    Uninstalling ale-py-0.7.5:\n",
            "      Successfully uninstalled ale-py-0.7.5\n",
            "  Attempting uninstall: shimmy\n",
            "    Found existing installation: Shimmy 1.3.0\n",
            "    Uninstalling Shimmy-1.3.0:\n",
            "      Successfully uninstalled Shimmy-1.3.0\n",
            "Successfully installed ale-py-0.8.1 shimmy-1.1.0\n"
          ]
        },
        {
          "output_type": "display_data",
          "data": {
            "application/vnd.colab-display-data+json": {
              "pip_warning": {
                "packages": [
                  "ale_py",
                  "shimmy"
                ]
              }
            }
          },
          "metadata": {}
        },
        {
          "output_type": "stream",
          "name": "stdout",
          "text": [
            "\u001b[2K     \u001b[90m━━━━━━━━━━━━━━━━━━━━━━━━━━━━━━━━━━━━━━━━\u001b[0m \u001b[32m14.0/14.0 MB\u001b[0m \u001b[31m35.1 MB/s\u001b[0m eta \u001b[36m0:00:00\u001b[0m\n",
            "\u001b[?25hy\n",
            "Hit:1 https://developer.download.nvidia.com/compute/cuda/repos/ubuntu2204/x86_64  InRelease\n",
            "Hit:2 https://cloud.r-project.org/bin/linux/ubuntu jammy-cran40/ InRelease\n",
            "Hit:3 http://archive.ubuntu.com/ubuntu jammy InRelease\n",
            "Get:4 http://security.ubuntu.com/ubuntu jammy-security InRelease [110 kB]\n",
            "Get:5 http://archive.ubuntu.com/ubuntu jammy-updates InRelease [119 kB]\n",
            "Hit:6 http://archive.ubuntu.com/ubuntu jammy-backports InRelease\n",
            "Hit:7 https://ppa.launchpadcontent.net/c2d4u.team/c2d4u4.0+/ubuntu jammy InRelease\n",
            "Hit:8 https://ppa.launchpadcontent.net/deadsnakes/ppa/ubuntu jammy InRelease\n",
            "Hit:9 https://ppa.launchpadcontent.net/graphics-drivers/ppa/ubuntu jammy InRelease\n",
            "Hit:10 https://ppa.launchpadcontent.net/ubuntugis/ppa/ubuntu jammy InRelease\n",
            "Fetched 229 kB in 1s (190 kB/s)\n",
            "Reading package lists... Done\n",
            "Reading package lists... Done\n",
            "Building dependency tree... Done\n",
            "Reading state information... Done\n",
            "swig is already the newest version (4.0.2-1ubuntu1).\n",
            "cmake is already the newest version (3.22.1-1ubuntu1.22.04.1).\n",
            "0 upgraded, 0 newly installed, 0 to remove and 34 not upgraded.\n"
          ]
        }
      ]
    },
    {
      "cell_type": "code",
      "source": [
        "import shutil\n",
        "import warnings\n",
        "import gymnasium as gym\n",
        "import cv2\n",
        "import random\n",
        "from stable_baselines3 import PPO, DQN\n",
        "from stable_baselines3.common.evaluation import evaluate_policy\n",
        "from stable_baselines3.common.vec_env import DummyVecEnv"
      ],
      "metadata": {
        "id": "fY3Sv7sYkflo"
      },
      "execution_count": null,
      "outputs": []
    },
    {
      "cell_type": "code",
      "source": [
        "!wget -O data.zip https://drive.google.com/uc?id=1JgkM0ot7kVKRXllM4cVLhb2IzEWbNFfb\n",
        "shutil.unpack_archive(\"data.zip\", \"\")"
      ],
      "metadata": {
        "colab": {
          "base_uri": "https://localhost:8080/"
        },
        "id": "VlFzoDfRlnUA",
        "outputId": "d1d15311-cb1b-4287-ae58-5768e64073eb"
      },
      "execution_count": null,
      "outputs": [
        {
          "output_type": "stream",
          "name": "stdout",
          "text": [
            "--2024-01-31 08:21:48--  https://drive.google.com/uc?id=1JgkM0ot7kVKRXllM4cVLhb2IzEWbNFfb\n",
            "Resolving drive.google.com (drive.google.com)... 74.125.197.138, 74.125.197.100, 74.125.197.113, ...\n",
            "Connecting to drive.google.com (drive.google.com)|74.125.197.138|:443... connected.\n",
            "HTTP request sent, awaiting response... 303 See Other\n",
            "Location: https://drive.usercontent.google.com/download?id=1JgkM0ot7kVKRXllM4cVLhb2IzEWbNFfb [following]\n",
            "--2024-01-31 08:21:48--  https://drive.usercontent.google.com/download?id=1JgkM0ot7kVKRXllM4cVLhb2IzEWbNFfb\n",
            "Resolving drive.usercontent.google.com (drive.usercontent.google.com)... 74.125.20.132, 2607:f8b0:400e:c07::84\n",
            "Connecting to drive.usercontent.google.com (drive.usercontent.google.com)|74.125.20.132|:443... connected.\n",
            "HTTP request sent, awaiting response... 200 OK\n",
            "Length: 23362890 (22M) [application/octet-stream]\n",
            "Saving to: ‘data.zip’\n",
            "\n",
            "data.zip            100%[===================>]  22.28M  --.-KB/s    in 0.1s    \n",
            "\n",
            "2024-01-31 08:21:52 (164 MB/s) - ‘data.zip’ saved [23362890/23362890]\n",
            "\n"
          ]
        }
      ]
    },
    {
      "cell_type": "code",
      "source": [
        "env = gym.make('CartPole-v1', render_mode='rgb_array')\n",
        "width, height = 600, 400\n",
        "fourcc = cv2.VideoWriter_fourcc(*\"mp4v\")\n",
        "video_writer = cv2.VideoWriter(\"Test.mp4\", fourcc, 30.0, (width, height))\n",
        "\n",
        "episodes = 100\n",
        "for episode in range(1, episodes+1):\n",
        "    observation = env.reset()\n",
        "    done = False\n",
        "    score = 0\n",
        "\n",
        "    while not done:\n",
        "        action = random.choice([0, 1])\n",
        "        observation, reward, done, info, _ = env.step(action)\n",
        "        score += reward\n",
        "\n",
        "        frame = env.render()\n",
        "        frame = cv2.cvtColor(frame, cv2.COLOR_RGB2BGR)\n",
        "        frame = cv2.resize(frame, (width, height))\n",
        "\n",
        "        video_writer.write(frame)\n",
        "\n",
        "    print(f\"Episode {episode} score: {score}\")\n",
        "\n",
        "video_writer.release()\n",
        "env.close()\n",
        "cv2.destroyAllWindows()"
      ],
      "metadata": {
        "colab": {
          "base_uri": "https://localhost:8080/"
        },
        "id": "qfr1KPVRlppx",
        "outputId": "b43902e7-585d-456f-d0ab-a1366f73fcdf"
      },
      "execution_count": null,
      "outputs": [
        {
          "output_type": "stream",
          "name": "stdout",
          "text": [
            "Episode 1 score: 29.0\n",
            "Episode 2 score: 18.0\n",
            "Episode 3 score: 23.0\n",
            "Episode 4 score: 11.0\n",
            "Episode 5 score: 30.0\n",
            "Episode 6 score: 30.0\n",
            "Episode 7 score: 108.0\n",
            "Episode 8 score: 19.0\n",
            "Episode 9 score: 18.0\n",
            "Episode 10 score: 34.0\n",
            "Episode 11 score: 14.0\n",
            "Episode 12 score: 22.0\n",
            "Episode 13 score: 13.0\n",
            "Episode 14 score: 12.0\n",
            "Episode 15 score: 37.0\n",
            "Episode 16 score: 13.0\n",
            "Episode 17 score: 15.0\n",
            "Episode 18 score: 15.0\n",
            "Episode 19 score: 11.0\n",
            "Episode 20 score: 19.0\n",
            "Episode 21 score: 13.0\n",
            "Episode 22 score: 17.0\n",
            "Episode 23 score: 12.0\n",
            "Episode 24 score: 47.0\n",
            "Episode 25 score: 16.0\n",
            "Episode 26 score: 45.0\n",
            "Episode 27 score: 51.0\n",
            "Episode 28 score: 17.0\n",
            "Episode 29 score: 25.0\n",
            "Episode 30 score: 39.0\n",
            "Episode 31 score: 12.0\n",
            "Episode 32 score: 45.0\n",
            "Episode 33 score: 13.0\n",
            "Episode 34 score: 26.0\n",
            "Episode 35 score: 21.0\n",
            "Episode 36 score: 23.0\n",
            "Episode 37 score: 24.0\n",
            "Episode 38 score: 13.0\n",
            "Episode 39 score: 14.0\n",
            "Episode 40 score: 22.0\n",
            "Episode 41 score: 25.0\n",
            "Episode 42 score: 38.0\n",
            "Episode 43 score: 14.0\n",
            "Episode 44 score: 9.0\n",
            "Episode 45 score: 33.0\n",
            "Episode 46 score: 22.0\n",
            "Episode 47 score: 16.0\n",
            "Episode 48 score: 36.0\n",
            "Episode 49 score: 15.0\n",
            "Episode 50 score: 22.0\n",
            "Episode 51 score: 31.0\n",
            "Episode 52 score: 14.0\n",
            "Episode 53 score: 26.0\n",
            "Episode 54 score: 17.0\n",
            "Episode 55 score: 44.0\n",
            "Episode 56 score: 21.0\n",
            "Episode 57 score: 25.0\n",
            "Episode 58 score: 19.0\n",
            "Episode 59 score: 46.0\n",
            "Episode 60 score: 15.0\n",
            "Episode 61 score: 28.0\n",
            "Episode 62 score: 34.0\n",
            "Episode 63 score: 26.0\n",
            "Episode 64 score: 21.0\n",
            "Episode 65 score: 17.0\n",
            "Episode 66 score: 14.0\n",
            "Episode 67 score: 27.0\n",
            "Episode 68 score: 24.0\n",
            "Episode 69 score: 29.0\n",
            "Episode 70 score: 19.0\n",
            "Episode 71 score: 67.0\n",
            "Episode 72 score: 14.0\n",
            "Episode 73 score: 12.0\n",
            "Episode 74 score: 11.0\n",
            "Episode 75 score: 16.0\n",
            "Episode 76 score: 35.0\n",
            "Episode 77 score: 12.0\n",
            "Episode 78 score: 10.0\n",
            "Episode 79 score: 47.0\n",
            "Episode 80 score: 20.0\n",
            "Episode 81 score: 14.0\n",
            "Episode 82 score: 51.0\n",
            "Episode 83 score: 16.0\n",
            "Episode 84 score: 20.0\n",
            "Episode 85 score: 15.0\n",
            "Episode 86 score: 21.0\n",
            "Episode 87 score: 17.0\n",
            "Episode 88 score: 24.0\n",
            "Episode 89 score: 21.0\n",
            "Episode 90 score: 9.0\n",
            "Episode 91 score: 31.0\n",
            "Episode 92 score: 30.0\n",
            "Episode 93 score: 18.0\n",
            "Episode 94 score: 25.0\n",
            "Episode 95 score: 48.0\n",
            "Episode 96 score: 18.0\n",
            "Episode 97 score: 27.0\n",
            "Episode 98 score: 33.0\n",
            "Episode 99 score: 15.0\n",
            "Episode 100 score: 60.0\n"
          ]
        }
      ]
    },
    {
      "cell_type": "code",
      "source": [
        "env = gym.make('CartPole-v1', render_mode='rgb_array')\n",
        "env = DummyVecEnv([lambda: env])\n",
        "\n",
        "model = PPO('MlpPolicy', env, verbose=1, tensorboard_log='training/logs')\n",
        "model.learn(total_timesteps=100_000, log_interval=5, progress_bar=True)\n",
        "\n",
        "model.save('training/trained_models/PPO_CartPole')\n",
        "del model\n",
        "model = PPO.load('training/trained_models/PPO_CartPole', env=env)\n",
        "\n",
        "evaluate_policy(model, env, n_eval_episodes=10)\n",
        "\n",
        "env = gym.make('CartPole-v1', render_mode='rgb_array')\n",
        "env = DummyVecEnv([lambda: env])\n",
        "\n",
        "width, height = 600, 400\n",
        "fourcc = cv2.VideoWriter_fourcc(*\"mp4v\")\n",
        "video_writer = cv2.VideoWriter(\"CartPole.mp4\", fourcc, 30.0, (width, height))\n",
        "\n",
        "episodes = 100\n",
        "for episode in range(1, episodes+1):\n",
        "    observation = env.reset()\n",
        "    done, score = False, 0\n",
        "\n",
        "    while not done:\n",
        "        action, _ = model.predict(observation)\n",
        "        step = env.step(action)\n",
        "\n",
        "        observation, reward, done, info = step[0], step[1], step[2], step[3]\n",
        "        score += reward\n",
        "\n",
        "        frame = env.render()\n",
        "        frame = cv2.cvtColor(frame, cv2.COLOR_RGB2BGR)\n",
        "        frame = cv2.resize(frame, (width, height))\n",
        "\n",
        "        video_writer.write(frame)\n",
        "\n",
        "    print(f\"Episode {episode} score: {score}\")\n",
        "\n",
        "video_writer.release()\n",
        "env.close()\n",
        "cv2.destroyAllWindows()\n"
      ],
      "metadata": {
        "colab": {
          "base_uri": "https://localhost:8080/",
          "height": 1000,
          "referenced_widgets": [
            "f11dd4382f5541f6b112ea265b370a9c",
            "975bfe44b1b6483bb13487c091712236"
          ]
        },
        "id": "t9wTXGdrmhPg",
        "outputId": "fd6ae4b5-cb89-49d7-9d27-749da9b2b519"
      },
      "execution_count": null,
      "outputs": [
        {
          "output_type": "stream",
          "name": "stdout",
          "text": [
            "Using cpu device\n",
            "Logging to training/logs/PPO_4\n"
          ]
        },
        {
          "output_type": "display_data",
          "data": {
            "text/plain": [
              "Output()"
            ],
            "application/vnd.jupyter.widget-view+json": {
              "version_major": 2,
              "version_minor": 0,
              "model_id": "f11dd4382f5541f6b112ea265b370a9c"
            }
          },
          "metadata": {}
        },
        {
          "output_type": "stream",
          "name": "stdout",
          "text": [
            "-----------------------------------------\n",
            "| time/                   |             |\n",
            "|    fps                  | 955         |\n",
            "|    iterations           | 5           |\n",
            "|    time_elapsed         | 10          |\n",
            "|    total_timesteps      | 10240       |\n",
            "| train/                  |             |\n",
            "|    approx_kl            | 0.006657504 |\n",
            "|    clip_fraction        | 0.0478      |\n",
            "|    clip_range           | 0.2         |\n",
            "|    entropy_loss         | -0.623      |\n",
            "|    explained_variance   | 0.356       |\n",
            "|    learning_rate        | 0.0003      |\n",
            "|    loss                 | 18.9        |\n",
            "|    n_updates            | 40          |\n",
            "|    policy_gradient_loss | -0.0135     |\n",
            "|    value_loss           | 58.4        |\n",
            "-----------------------------------------\n",
            "------------------------------------------\n",
            "| time/                   |              |\n",
            "|    fps                  | 921          |\n",
            "|    iterations           | 10           |\n",
            "|    time_elapsed         | 22           |\n",
            "|    total_timesteps      | 20480        |\n",
            "| train/                  |              |\n",
            "|    approx_kl            | 0.0062258863 |\n",
            "|    clip_fraction        | 0.0693       |\n",
            "|    clip_range           | 0.2          |\n",
            "|    entropy_loss         | -0.562       |\n",
            "|    explained_variance   | 0.758        |\n",
            "|    learning_rate        | 0.0003       |\n",
            "|    loss                 | 11.6         |\n",
            "|    n_updates            | 90           |\n",
            "|    policy_gradient_loss | -0.00785     |\n",
            "|    value_loss           | 28.1         |\n",
            "------------------------------------------\n",
            "------------------------------------------\n",
            "| time/                   |              |\n",
            "|    fps                  | 917          |\n",
            "|    iterations           | 15           |\n",
            "|    time_elapsed         | 33           |\n",
            "|    total_timesteps      | 30720        |\n",
            "| train/                  |              |\n",
            "|    approx_kl            | 0.0019475045 |\n",
            "|    clip_fraction        | 0.00996      |\n",
            "|    clip_range           | 0.2          |\n",
            "|    entropy_loss         | -0.531       |\n",
            "|    explained_variance   | 0.0193       |\n",
            "|    learning_rate        | 0.0003       |\n",
            "|    loss                 | 22.6         |\n",
            "|    n_updates            | 140          |\n",
            "|    policy_gradient_loss | -0.00439     |\n",
            "|    value_loss           | 87.4         |\n",
            "------------------------------------------\n",
            "------------------------------------------\n",
            "| time/                   |              |\n",
            "|    fps                  | 908          |\n",
            "|    iterations           | 20           |\n",
            "|    time_elapsed         | 45           |\n",
            "|    total_timesteps      | 40960        |\n",
            "| train/                  |              |\n",
            "|    approx_kl            | 0.0048138006 |\n",
            "|    clip_fraction        | 0.0636       |\n",
            "|    clip_range           | 0.2          |\n",
            "|    entropy_loss         | -0.498       |\n",
            "|    explained_variance   | -0.0422      |\n",
            "|    learning_rate        | 0.0003       |\n",
            "|    loss                 | -0.00387     |\n",
            "|    n_updates            | 190          |\n",
            "|    policy_gradient_loss | -0.00591     |\n",
            "|    value_loss           | 0.202        |\n",
            "------------------------------------------\n",
            "------------------------------------------\n",
            "| time/                   |              |\n",
            "|    fps                  | 902          |\n",
            "|    iterations           | 25           |\n",
            "|    time_elapsed         | 56           |\n",
            "|    total_timesteps      | 51200        |\n",
            "| train/                  |              |\n",
            "|    approx_kl            | 0.0024963203 |\n",
            "|    clip_fraction        | 0.0163       |\n",
            "|    clip_range           | 0.2          |\n",
            "|    entropy_loss         | -0.455       |\n",
            "|    explained_variance   | -0.0574      |\n",
            "|    learning_rate        | 0.0003       |\n",
            "|    loss                 | -0.000783    |\n",
            "|    n_updates            | 240          |\n",
            "|    policy_gradient_loss | -0.00124     |\n",
            "|    value_loss           | 0.0195       |\n",
            "------------------------------------------\n",
            "------------------------------------------\n",
            "| time/                   |              |\n",
            "|    fps                  | 899          |\n",
            "|    iterations           | 30           |\n",
            "|    time_elapsed         | 68           |\n",
            "|    total_timesteps      | 61440        |\n",
            "| train/                  |              |\n",
            "|    approx_kl            | 0.0022044347 |\n",
            "|    clip_fraction        | 0.0117       |\n",
            "|    clip_range           | 0.2          |\n",
            "|    entropy_loss         | -0.389       |\n",
            "|    explained_variance   | -0.0936      |\n",
            "|    learning_rate        | 0.0003       |\n",
            "|    loss                 | -0.00979     |\n",
            "|    n_updates            | 290          |\n",
            "|    policy_gradient_loss | 3.7e-05      |\n",
            "|    value_loss           | 0.00245      |\n",
            "------------------------------------------\n",
            "------------------------------------------\n",
            "| time/                   |              |\n",
            "|    fps                  | 887          |\n",
            "|    iterations           | 35           |\n",
            "|    time_elapsed         | 80           |\n",
            "|    total_timesteps      | 71680        |\n",
            "| train/                  |              |\n",
            "|    approx_kl            | 0.0005736781 |\n",
            "|    clip_fraction        | 0.0224       |\n",
            "|    clip_range           | 0.2          |\n",
            "|    entropy_loss         | -0.423       |\n",
            "|    explained_variance   | -0.028       |\n",
            "|    learning_rate        | 0.0003       |\n",
            "|    loss                 | 0.00191      |\n",
            "|    n_updates            | 340          |\n",
            "|    policy_gradient_loss | -0.000678    |\n",
            "|    value_loss           | 0.000403     |\n",
            "------------------------------------------\n",
            "------------------------------------------\n",
            "| time/                   |              |\n",
            "|    fps                  | 888          |\n",
            "|    iterations           | 40           |\n",
            "|    time_elapsed         | 92           |\n",
            "|    total_timesteps      | 81920        |\n",
            "| train/                  |              |\n",
            "|    approx_kl            | 0.0026001553 |\n",
            "|    clip_fraction        | 0.0238       |\n",
            "|    clip_range           | 0.2          |\n",
            "|    entropy_loss         | -0.394       |\n",
            "|    explained_variance   | -0.16        |\n",
            "|    learning_rate        | 0.0003       |\n",
            "|    loss                 | -0.025       |\n",
            "|    n_updates            | 390          |\n",
            "|    policy_gradient_loss | -0.00205     |\n",
            "|    value_loss           | 6.77e-05     |\n",
            "------------------------------------------\n",
            "------------------------------------------\n",
            "| time/                   |              |\n",
            "|    fps                  | 889          |\n",
            "|    iterations           | 45           |\n",
            "|    time_elapsed         | 103          |\n",
            "|    total_timesteps      | 92160        |\n",
            "| train/                  |              |\n",
            "|    approx_kl            | 0.0030700122 |\n",
            "|    clip_fraction        | 0.036        |\n",
            "|    clip_range           | 0.2          |\n",
            "|    entropy_loss         | -0.355       |\n",
            "|    explained_variance   | -0.341       |\n",
            "|    learning_rate        | 0.0003       |\n",
            "|    loss                 | 0.00583      |\n",
            "|    n_updates            | 440          |\n",
            "|    policy_gradient_loss | -0.00195     |\n",
            "|    value_loss           | 1.33e-05     |\n",
            "------------------------------------------\n"
          ]
        },
        {
          "output_type": "display_data",
          "data": {
            "text/plain": [],
            "text/html": [
              "<pre style=\"white-space:pre;overflow-x:auto;line-height:normal;font-family:Menlo,'DejaVu Sans Mono',consolas,'Courier New',monospace\"></pre>\n"
            ]
          },
          "metadata": {}
        },
        {
          "output_type": "display_data",
          "data": {
            "text/plain": [
              "\n"
            ],
            "text/html": [
              "<pre style=\"white-space:pre;overflow-x:auto;line-height:normal;font-family:Menlo,'DejaVu Sans Mono',consolas,'Courier New',monospace\">\n",
              "</pre>\n"
            ]
          },
          "metadata": {}
        },
        {
          "output_type": "stream",
          "name": "stderr",
          "text": [
            "/usr/local/lib/python3.10/dist-packages/stable_baselines3/common/evaluation.py:67: UserWarning: Evaluation environment is not wrapped with a ``Monitor`` wrapper. This may result in reporting modified episode lengths and rewards, if other wrappers happen to modify these. Consider wrapping environment first with ``Monitor`` wrapper.\n",
            "  warnings.warn(\n"
          ]
        },
        {
          "output_type": "stream",
          "name": "stdout",
          "text": [
            "Episode 1 score: [500.]\n",
            "Episode 2 score: [500.]\n",
            "Episode 3 score: [500.]\n",
            "Episode 4 score: [500.]\n",
            "Episode 5 score: [500.]\n",
            "Episode 6 score: [500.]\n",
            "Episode 7 score: [500.]\n",
            "Episode 8 score: [500.]\n",
            "Episode 9 score: [500.]\n",
            "Episode 10 score: [500.]\n"
          ]
        }
      ]
    },
    {
      "cell_type": "code",
      "source": [
        "env = gym.make('LunarLander-v2', render_mode='rgb_array')\n",
        "\n",
        "# 3.2 Train the model\n",
        "model = DQN(\"MlpPolicy\", env,\n",
        "            batch_size=128,\n",
        "            buffer_size=50_000,\n",
        "            exploration_final_eps=0.1,\n",
        "            exploration_fraction=0.12,\n",
        "            gamma=0.99,\n",
        "            gradient_steps=-1,\n",
        "            learning_rate=0.00063,\n",
        "            learning_starts=0,\n",
        "            policy_kwargs=dict(net_arch=[256, 256]),\n",
        "            target_update_interval=250,\n",
        "            train_freq=4)\n",
        "\n",
        "model.learn(total_timesteps=200_000, log_interval=50, progress_bar=True)\n",
        "\n",
        "model.save('training/trained_models/DQN_LunarLander')\n",
        "del model\n",
        "model = DQN.load('training/trained_models/DQN_LunarLander')\n",
        "\n",
        "env = gym.make('LunarLander-v2', render_mode='rgb_array')\n",
        "env = DummyVecEnv([lambda: env])\n",
        "\n",
        "mean_reward, std_reward = evaluate_policy(model, env, n_eval_episodes=10, deterministic=True)\n",
        "print(f\"mean_reward={mean_reward:.2f} +/- {std_reward}\")\n",
        "\n",
        "env = gym.make('LunarLander-v2', render_mode='rgb_array')\n",
        "env = DummyVecEnv([lambda: env])\n",
        "\n",
        "width, height = 600, 400\n",
        "fourcc = cv2.VideoWriter_fourcc(*\"mp4v\")\n",
        "video_writer = cv2.VideoWriter(\"Luna Lander.mp4\", fourcc, 30.0, (width, height))\n",
        "\n",
        "episodes = 10\n",
        "for episode in range(1, episodes+1):\n",
        "    observation = env.reset()\n",
        "    done, score = False, 0\n",
        "\n",
        "    while not done:\n",
        "        action, _ = model.predict(observation)\n",
        "        step = env.step(action)\n",
        "\n",
        "        observation, reward, done, info = step[0], step[1], step[2], step[3]\n",
        "        score += reward\n",
        "\n",
        "        frame = env.render()\n",
        "        frame = cv2.cvtColor(frame, cv2.COLOR_RGB2BGR)\n",
        "        frame = cv2.resize(frame, (width, height))\n",
        "\n",
        "        video_writer.write(frame)\n",
        "\n",
        "    print(f\"Episode {episode} score: {score}\")\n",
        "\n",
        "video_writer.release()\n",
        "env.close()\n",
        "cv2.destroyAllWindows()\n"
      ],
      "metadata": {
        "colab": {
          "base_uri": "https://localhost:8080/",
          "height": 225,
          "referenced_widgets": [
            "1f0bfaa45ef34e23892364a46400376f",
            "ea1c2879c5c342e3ad6f66c884d74af4"
          ]
        },
        "id": "_24KWODdml3g",
        "outputId": "db7923d2-c219-4263-ac6a-77b2f286ac50"
      },
      "execution_count": null,
      "outputs": [
        {
          "output_type": "display_data",
          "data": {
            "text/plain": [
              "Output()"
            ],
            "application/vnd.jupyter.widget-view+json": {
              "version_major": 2,
              "version_minor": 0,
              "model_id": "1f0bfaa45ef34e23892364a46400376f"
            }
          },
          "metadata": {}
        },
        {
          "output_type": "display_data",
          "data": {
            "text/plain": [],
            "text/html": [
              "<pre style=\"white-space:pre;overflow-x:auto;line-height:normal;font-family:Menlo,'DejaVu Sans Mono',consolas,'Courier New',monospace\"></pre>\n"
            ]
          },
          "metadata": {}
        },
        {
          "output_type": "display_data",
          "data": {
            "text/plain": [
              "\n"
            ],
            "text/html": [
              "<pre style=\"white-space:pre;overflow-x:auto;line-height:normal;font-family:Menlo,'DejaVu Sans Mono',consolas,'Courier New',monospace\">\n",
              "</pre>\n"
            ]
          },
          "metadata": {}
        },
        {
          "output_type": "stream",
          "name": "stdout",
          "text": [
            "mean_reward=197.96 +/- 75.47509636458136\n",
            "Episode 1 score: [105.48331]\n",
            "Episode 2 score: [260.66895]\n",
            "Episode 3 score: [282.34128]\n",
            "Episode 4 score: [43.053787]\n",
            "Episode 5 score: [239.25487]\n",
            "Episode 6 score: [243.17332]\n",
            "Episode 7 score: [224.88861]\n",
            "Episode 8 score: [238.78899]\n",
            "Episode 9 score: [225.70004]\n",
            "Episode 10 score: [66.24044]\n"
          ]
        }
      ]
    },
    {
      "cell_type": "code",
      "source": [
        "env = gym.make('CarRacing-v2', render_mode='rgb_array', verbose=0)\n",
        "env = DummyVecEnv([lambda: env])\n",
        "\n",
        "model = PPO(\"CnnPolicy\", 'CarRacing-v2',\n",
        "            tensorboard_log='training/logs',\n",
        "            batch_size=128,\n",
        "            clip_range=0.2,\n",
        "            ent_coef=0.0,\n",
        "            gae_lambda=0.95,\n",
        "            gamma=0.99,\n",
        "            learning_rate=0.0003,\n",
        "            max_grad_norm=0.5,\n",
        "            n_epochs=10)\n",
        "\n",
        "model.learn(total_timesteps=400_000, log_interval=5, progress_bar=True)\n",
        "\n",
        "model.save('training/trained_models/PPO_400kCarRacing_whp')\n",
        "del model\n",
        "model = PPO.load('training/trained_models/PPO_400kCarRacing_whp')\n",
        "\n",
        "env = gym.make('CarRacing-v2', render_mode='rgb_array')\n",
        "env = DummyVecEnv([lambda: env])\n",
        "mean_reward, std_reward = evaluate_policy(model, env, n_eval_episodes=10, deterministic=True)\n",
        "print(f\"mean_reward={mean_reward:.2f} +/- {std_reward}\")\n",
        "\n",
        "env = gym.make('CarRacing-v2', render_mode='rgb_array')\n",
        "env = DummyVecEnv([lambda: env])\n",
        "\n",
        "width, height = 600, 400\n",
        "fourcc = cv2.VideoWriter_fourcc(*\"mp4v\")\n",
        "video_writer = cv2.VideoWriter(\"Car Racing.mp4\", fourcc, 30.0, (width, height))\n",
        "\n",
        "episodes = 10\n",
        "for episode in range(1, episodes+1):\n",
        "    observation = env.reset()\n",
        "    done, score = False, 0\n",
        "\n",
        "    while not done:\n",
        "        action, _ = model.predict(observation)\n",
        "        step = env.step(action)\n",
        "\n",
        "        observation, reward, done, info = step[0], step[1], step[2], step[3]\n",
        "        score += reward\n",
        "\n",
        "        frame = env.render()\n",
        "        frame = cv2.cvtColor(frame, cv2.COLOR_RGB2BGR)\n",
        "        frame = cv2.resize(frame, (width, height))\n",
        "\n",
        "        video_writer.write(frame)\n",
        "\n",
        "    print(f\"Episode {episode} score: {score}\")\n",
        "\n",
        "video_writer.release()\n",
        "env.close()\n",
        "cv2.destroyAllWindows()\n"
      ],
      "metadata": {
        "colab": {
          "base_uri": "https://localhost:8080/",
          "height": 225
        },
        "id": "22l70UhomrEt",
        "outputId": "e247c55b-089a-4b30-c8a5-be2e78dafae3"
      },
      "execution_count": null,
      "outputs": [
        {
          "output_type": "display_data",
          "data": {
            "text/plain": [
              "\u001b[35m 100%\u001b[0m \u001b[38;2;114;156;31m━━━━━━━━━━━━━━━━━━━━━━━━━━━━━━━━━━━━━━━━━━━━━━━━━━━━━━━━━━━━\u001b[0m \u001b[32m401,408/400,000 \u001b[0m [ \u001b[33m2:48:37\u001b[0m < \u001b[36m0:00:00\u001b[0m , \u001b[31m46 it/s\u001b[0m ]\n"
            ],
            "text/html": [
              "<pre style=\"white-space:pre;overflow-x:auto;line-height:normal;font-family:Menlo,'DejaVu Sans Mono',consolas,'Courier New',monospace\"><span style=\"color: #800080; text-decoration-color: #800080\"> 100%</span> <span style=\"color: #729c1f; text-decoration-color: #729c1f\">━━━━━━━━━━━━━━━━━━━━━━━━━━━━━━━━━━━━━━━━━━━━━━━━━━━━━━━━━━━━</span> <span style=\"color: #008000; text-decoration-color: #008000\">401,408/400,000 </span> [ <span style=\"color: #808000; text-decoration-color: #808000\">2:48:37</span> &lt; <span style=\"color: #008080; text-decoration-color: #008080\">0:00:00</span> , <span style=\"color: #800000; text-decoration-color: #800000\">46 it/s</span> ]\n",
              "</pre>\n"
            ]
          },
          "metadata": {}
        },
        {
          "output_type": "display_data",
          "data": {
            "text/plain": [],
            "text/html": [
              "<pre style=\"white-space:pre;overflow-x:auto;line-height:normal;font-family:Menlo,'DejaVu Sans Mono',consolas,'Courier New',monospace\"></pre>\n"
            ]
          },
          "metadata": {}
        },
        {
          "output_type": "display_data",
          "data": {
            "text/plain": [
              "\n"
            ],
            "text/html": [
              "<pre style=\"white-space:pre;overflow-x:auto;line-height:normal;font-family:Menlo,'DejaVu Sans Mono',consolas,'Courier New',monospace\">\n",
              "</pre>\n"
            ]
          },
          "metadata": {}
        },
        {
          "output_type": "stream",
          "name": "stdout",
          "text": [
            "mean_reward=427.54 +/- 164.74825671722698\n",
            "Episode 1 score: [445.1347]\n",
            "Episode 2 score: [312.18134]\n",
            "Episode 3 score: [443.40515]\n",
            "Episode 4 score: [197.94052]\n",
            "Episode 5 score: [130.25812]\n",
            "Episode 6 score: [793.11176]\n",
            "Episode 7 score: [282.97452]\n",
            "Episode 8 score: [345.7789]\n",
            "Episode 9 score: [399.9969]\n",
            "Episode 10 score: [496.37283]\n"
          ]
        }
      ]
    },
    {
      "cell_type": "code",
      "source": [],
      "metadata": {
        "id": "x3RKyW8gn4_7"
      },
      "execution_count": null,
      "outputs": []
    }
  ]
}